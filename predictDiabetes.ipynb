{
 "cells": [
  {
   "cell_type": "markdown",
   "id": "71a395ab",
   "metadata": {},
   "source": [
    "# DATA SCIENCE\n",
    "##       Group 5\n",
    "\n",
    "### Features that directly infect diabetes"
   ]
  },
  {
   "cell_type": "code",
   "execution_count": 1,
   "id": "badcc692",
   "metadata": {},
   "outputs": [],
   "source": [
    "#Importing all the required libraries and functions\n",
    "import pandas as pd\n",
    "import numpy as np\n",
    "import seaborn as sns\n",
    "import matplotlib.pyplot as plt\n",
    "%matplotlib inline\n",
    "from sklearn.linear_model import LogisticRegression\n",
    "import joblib"
   ]
  },
  {
   "cell_type": "code",
   "execution_count": 2,
   "id": "0fdde6ae",
   "metadata": {},
   "outputs": [
    {
     "data": {
      "text/html": [
       "<div>\n",
       "<style scoped>\n",
       "    .dataframe tbody tr th:only-of-type {\n",
       "        vertical-align: middle;\n",
       "    }\n",
       "\n",
       "    .dataframe tbody tr th {\n",
       "        vertical-align: top;\n",
       "    }\n",
       "\n",
       "    .dataframe thead th {\n",
       "        text-align: right;\n",
       "    }\n",
       "</style>\n",
       "<table border=\"1\" class=\"dataframe\">\n",
       "  <thead>\n",
       "    <tr style=\"text-align: right;\">\n",
       "      <th></th>\n",
       "      <th>Glucose</th>\n",
       "      <th>BloodPressure</th>\n",
       "      <th>SkinThickness</th>\n",
       "      <th>Insulin</th>\n",
       "      <th>BMI</th>\n",
       "      <th>DiabetesPedigreeFunction</th>\n",
       "      <th>Age</th>\n",
       "      <th>Outcome</th>\n",
       "    </tr>\n",
       "  </thead>\n",
       "  <tbody>\n",
       "    <tr>\n",
       "      <th>0</th>\n",
       "      <td>89.0</td>\n",
       "      <td>66.0</td>\n",
       "      <td>23.0</td>\n",
       "      <td>94.0</td>\n",
       "      <td>28.1</td>\n",
       "      <td>0.167</td>\n",
       "      <td>21.0</td>\n",
       "      <td>0.0</td>\n",
       "    </tr>\n",
       "    <tr>\n",
       "      <th>1</th>\n",
       "      <td>137.0</td>\n",
       "      <td>40.0</td>\n",
       "      <td>35.0</td>\n",
       "      <td>168.0</td>\n",
       "      <td>43.1</td>\n",
       "      <td>2.288</td>\n",
       "      <td>33.0</td>\n",
       "      <td>1.0</td>\n",
       "    </tr>\n",
       "    <tr>\n",
       "      <th>2</th>\n",
       "      <td>78.0</td>\n",
       "      <td>50.0</td>\n",
       "      <td>32.0</td>\n",
       "      <td>88.0</td>\n",
       "      <td>31.0</td>\n",
       "      <td>0.248</td>\n",
       "      <td>26.0</td>\n",
       "      <td>1.0</td>\n",
       "    </tr>\n",
       "    <tr>\n",
       "      <th>3</th>\n",
       "      <td>197.0</td>\n",
       "      <td>70.0</td>\n",
       "      <td>45.0</td>\n",
       "      <td>543.0</td>\n",
       "      <td>30.5</td>\n",
       "      <td>0.158</td>\n",
       "      <td>53.0</td>\n",
       "      <td>1.0</td>\n",
       "    </tr>\n",
       "    <tr>\n",
       "      <th>4</th>\n",
       "      <td>189.0</td>\n",
       "      <td>60.0</td>\n",
       "      <td>23.0</td>\n",
       "      <td>846.0</td>\n",
       "      <td>30.1</td>\n",
       "      <td>0.398</td>\n",
       "      <td>59.0</td>\n",
       "      <td>1.0</td>\n",
       "    </tr>\n",
       "  </tbody>\n",
       "</table>\n",
       "</div>"
      ],
      "text/plain": [
       "   Glucose  BloodPressure  SkinThickness  Insulin   BMI  \\\n",
       "0     89.0           66.0           23.0     94.0  28.1   \n",
       "1    137.0           40.0           35.0    168.0  43.1   \n",
       "2     78.0           50.0           32.0     88.0  31.0   \n",
       "3    197.0           70.0           45.0    543.0  30.5   \n",
       "4    189.0           60.0           23.0    846.0  30.1   \n",
       "\n",
       "   DiabetesPedigreeFunction   Age  Outcome  \n",
       "0                     0.167  21.0      0.0  \n",
       "1                     2.288  33.0      1.0  \n",
       "2                     0.248  26.0      1.0  \n",
       "3                     0.158  53.0      1.0  \n",
       "4                     0.398  59.0      1.0  "
      ]
     },
     "execution_count": 2,
     "metadata": {},
     "output_type": "execute_result"
    }
   ],
   "source": [
    "#Reading dataframes\n",
    "diabetesDF = pd.read_csv('diabetes.csv')\n",
    "diabetesDF.head()"
   ]
  },
  {
   "cell_type": "code",
   "execution_count": 3,
   "id": "57bb596c",
   "metadata": {},
   "outputs": [
    {
     "name": "stdout",
     "output_type": "stream",
     "text": [
      "<class 'pandas.core.frame.DataFrame'>\n",
      "RangeIndex: 686 entries, 0 to 685\n",
      "Data columns (total 8 columns):\n",
      " #   Column                    Non-Null Count  Dtype  \n",
      "---  ------                    --------------  -----  \n",
      " 0   Glucose                   394 non-null    float64\n",
      " 1   BloodPressure             394 non-null    float64\n",
      " 2   SkinThickness             394 non-null    float64\n",
      " 3   Insulin                   394 non-null    float64\n",
      " 4   BMI                       394 non-null    float64\n",
      " 5   DiabetesPedigreeFunction  394 non-null    float64\n",
      " 6   Age                       394 non-null    float64\n",
      " 7   Outcome                   394 non-null    float64\n",
      "dtypes: float64(8)\n",
      "memory usage: 43.0 KB\n"
     ]
    }
   ],
   "source": [
    "# Checkinf=g all the details for the dataframe\n",
    "diabetesDF.info()"
   ]
  },
  {
   "cell_type": "code",
   "execution_count": 6,
   "id": "51a6a624",
   "metadata": {},
   "outputs": [
    {
     "data": {
      "text/plain": [
       "Glucose                     292\n",
       "BloodPressure               292\n",
       "SkinThickness               292\n",
       "Insulin                     292\n",
       "BMI                         292\n",
       "DiabetesPedigreeFunction    292\n",
       "Age                         292\n",
       "Outcome                     292\n",
       "dtype: int64"
      ]
     },
     "execution_count": 6,
     "metadata": {},
     "output_type": "execute_result"
    }
   ],
   "source": [
    "#Checking total null values\n",
    "diabetesDF.isna().sum()"
   ]
  },
  {
   "cell_type": "code",
   "execution_count": 7,
   "id": "5b1c408a",
   "metadata": {},
   "outputs": [
    {
     "data": {
      "text/plain": [
       "Glucose                     0\n",
       "BloodPressure               0\n",
       "SkinThickness               0\n",
       "Insulin                     0\n",
       "BMI                         0\n",
       "DiabetesPedigreeFunction    0\n",
       "Age                         0\n",
       "Outcome                     0\n",
       "dtype: int64"
      ]
     },
     "execution_count": 7,
     "metadata": {},
     "output_type": "execute_result"
    }
   ],
   "source": [
    "# Removing null values\n",
    "diabetesDF = diabetesDF.dropna(how='any',axis=0)\n",
    "diabetesDF.isna().sum()"
   ]
  },
  {
   "cell_type": "markdown",
   "id": "e7b12dbe",
   "metadata": {},
   "source": [
    "##### Data Exploration"
   ]
  },
  {
   "cell_type": "code",
   "execution_count": 14,
   "id": "f5001b64",
   "metadata": {},
   "outputs": [
    {
     "data": {
      "text/plain": [
       "Glucose                     float64\n",
       "BloodPressure               float64\n",
       "SkinThickness               float64\n",
       "Insulin                     float64\n",
       "BMI                         float64\n",
       "DiabetesPedigreeFunction    float64\n",
       "Age                         float64\n",
       "Outcome                     float64\n",
       "dtype: object"
      ]
     },
     "execution_count": 14,
     "metadata": {},
     "output_type": "execute_result"
    }
   ],
   "source": [
    "diabetesDF.dtypes"
   ]
  },
  {
   "cell_type": "code",
   "execution_count": 15,
   "id": "f7d7aef8",
   "metadata": {},
   "outputs": [
    {
     "data": {
      "text/html": [
       "<div>\n",
       "<style scoped>\n",
       "    .dataframe tbody tr th:only-of-type {\n",
       "        vertical-align: middle;\n",
       "    }\n",
       "\n",
       "    .dataframe tbody tr th {\n",
       "        vertical-align: top;\n",
       "    }\n",
       "\n",
       "    .dataframe thead th {\n",
       "        text-align: right;\n",
       "    }\n",
       "</style>\n",
       "<table border=\"1\" class=\"dataframe\">\n",
       "  <thead>\n",
       "    <tr style=\"text-align: right;\">\n",
       "      <th></th>\n",
       "      <th>Glucose</th>\n",
       "      <th>BloodPressure</th>\n",
       "      <th>SkinThickness</th>\n",
       "      <th>Insulin</th>\n",
       "      <th>BMI</th>\n",
       "      <th>DiabetesPedigreeFunction</th>\n",
       "      <th>Age</th>\n",
       "      <th>Outcome</th>\n",
       "    </tr>\n",
       "  </thead>\n",
       "  <tbody>\n",
       "    <tr>\n",
       "      <th>Glucose</th>\n",
       "      <td>1.000000</td>\n",
       "      <td>0.203356</td>\n",
       "      <td>0.203526</td>\n",
       "      <td>0.580010</td>\n",
       "      <td>0.208711</td>\n",
       "      <td>0.140409</td>\n",
       "      <td>0.346041</td>\n",
       "      <td>0.512201</td>\n",
       "    </tr>\n",
       "    <tr>\n",
       "      <th>BloodPressure</th>\n",
       "      <td>0.203356</td>\n",
       "      <td>1.000000</td>\n",
       "      <td>0.232342</td>\n",
       "      <td>0.098272</td>\n",
       "      <td>0.301530</td>\n",
       "      <td>-0.020834</td>\n",
       "      <td>0.299845</td>\n",
       "      <td>0.192819</td>\n",
       "    </tr>\n",
       "    <tr>\n",
       "      <th>SkinThickness</th>\n",
       "      <td>0.203526</td>\n",
       "      <td>0.232342</td>\n",
       "      <td>1.000000</td>\n",
       "      <td>0.184888</td>\n",
       "      <td>0.653425</td>\n",
       "      <td>0.154056</td>\n",
       "      <td>0.170694</td>\n",
       "      <td>0.257854</td>\n",
       "    </tr>\n",
       "    <tr>\n",
       "      <th>Insulin</th>\n",
       "      <td>0.580010</td>\n",
       "      <td>0.098272</td>\n",
       "      <td>0.184888</td>\n",
       "      <td>1.000000</td>\n",
       "      <td>0.228328</td>\n",
       "      <td>0.130395</td>\n",
       "      <td>0.220261</td>\n",
       "      <td>0.303454</td>\n",
       "    </tr>\n",
       "    <tr>\n",
       "      <th>BMI</th>\n",
       "      <td>0.208711</td>\n",
       "      <td>0.301530</td>\n",
       "      <td>0.653425</td>\n",
       "      <td>0.228328</td>\n",
       "      <td>1.000000</td>\n",
       "      <td>0.112954</td>\n",
       "      <td>0.080778</td>\n",
       "      <td>0.271796</td>\n",
       "    </tr>\n",
       "    <tr>\n",
       "      <th>DiabetesPedigreeFunction</th>\n",
       "      <td>0.140409</td>\n",
       "      <td>-0.020834</td>\n",
       "      <td>0.154056</td>\n",
       "      <td>0.130395</td>\n",
       "      <td>0.112954</td>\n",
       "      <td>1.000000</td>\n",
       "      <td>0.076609</td>\n",
       "      <td>0.200759</td>\n",
       "    </tr>\n",
       "    <tr>\n",
       "      <th>Age</th>\n",
       "      <td>0.346041</td>\n",
       "      <td>0.299845</td>\n",
       "      <td>0.170694</td>\n",
       "      <td>0.220261</td>\n",
       "      <td>0.080778</td>\n",
       "      <td>0.076609</td>\n",
       "      <td>1.000000</td>\n",
       "      <td>0.352982</td>\n",
       "    </tr>\n",
       "    <tr>\n",
       "      <th>Outcome</th>\n",
       "      <td>0.512201</td>\n",
       "      <td>0.192819</td>\n",
       "      <td>0.257854</td>\n",
       "      <td>0.303454</td>\n",
       "      <td>0.271796</td>\n",
       "      <td>0.200759</td>\n",
       "      <td>0.352982</td>\n",
       "      <td>1.000000</td>\n",
       "    </tr>\n",
       "  </tbody>\n",
       "</table>\n",
       "</div>"
      ],
      "text/plain": [
       "                           Glucose  BloodPressure  SkinThickness   Insulin  \\\n",
       "Glucose                   1.000000       0.203356       0.203526  0.580010   \n",
       "BloodPressure             0.203356       1.000000       0.232342  0.098272   \n",
       "SkinThickness             0.203526       0.232342       1.000000  0.184888   \n",
       "Insulin                   0.580010       0.098272       0.184888  1.000000   \n",
       "BMI                       0.208711       0.301530       0.653425  0.228328   \n",
       "DiabetesPedigreeFunction  0.140409      -0.020834       0.154056  0.130395   \n",
       "Age                       0.346041       0.299845       0.170694  0.220261   \n",
       "Outcome                   0.512201       0.192819       0.257854  0.303454   \n",
       "\n",
       "                               BMI  DiabetesPedigreeFunction       Age  \\\n",
       "Glucose                   0.208711                  0.140409  0.346041   \n",
       "BloodPressure             0.301530                 -0.020834  0.299845   \n",
       "SkinThickness             0.653425                  0.154056  0.170694   \n",
       "Insulin                   0.228328                  0.130395  0.220261   \n",
       "BMI                       1.000000                  0.112954  0.080778   \n",
       "DiabetesPedigreeFunction  0.112954                  1.000000  0.076609   \n",
       "Age                       0.080778                  0.076609  1.000000   \n",
       "Outcome                   0.271796                  0.200759  0.352982   \n",
       "\n",
       "                           Outcome  \n",
       "Glucose                   0.512201  \n",
       "BloodPressure             0.192819  \n",
       "SkinThickness             0.257854  \n",
       "Insulin                   0.303454  \n",
       "BMI                       0.271796  \n",
       "DiabetesPedigreeFunction  0.200759  \n",
       "Age                       0.352982  \n",
       "Outcome                   1.000000  "
      ]
     },
     "execution_count": 15,
     "metadata": {},
     "output_type": "execute_result"
    }
   ],
   "source": [
    "diabetesDF.corr()"
   ]
  },
  {
   "cell_type": "code",
   "execution_count": 34,
   "id": "6a3385e0",
   "metadata": {},
   "outputs": [
    {
     "data": {
      "text/plain": [
       "<AxesSubplot:>"
      ]
     },
     "execution_count": 34,
     "metadata": {},
     "output_type": "execute_result"
    },
    {
     "data": {
      "image/png": "[encoded data removed]",
      "text/plain": [
       "<Figure size 1152x720 with 2 Axes>"
      ]
     },
     "metadata": {
      "needs_background": "light"
     },
     "output_type": "display_data"
    }
   ],
   "source": [
    "# Plotting a heat map for the correlations\n",
    "plt.figure(figsize=(16,10))\n",
    "sns.heatmap(diabetesDF.corr(), annot=True)"
   ]
  },
  {
   "cell_type": "code",
   "execution_count": 17,
   "id": "15871ea0",
   "metadata": {},
   "outputs": [
    {
     "data": {
      "image/png": "[encoded data removed]",
      "text/plain": [
       "<Figure size 144x288 with 1 Axes>"
      ]
     },
     "metadata": {
      "needs_background": "light"
     },
     "output_type": "display_data"
    }
   ],
   "source": [
    "# Bar Plot showing number of dibaetic vs non-diabetic (0 representing non-diabetic and 1 representing diabetic)\n",
    "ax = diabetesDF['Outcome'].value_counts().plot(kind='bar',figsize=(2,4),title=\"Count for Diabetic vs Non-Diabetic\")"
   ]
  },
  {
   "cell_type": "markdown",
   "id": "d5bc59cd",
   "metadata": {},
   "source": [
    "##### Training and Testing data to make predictions"
   ]
  },
  {
   "cell_type": "code",
   "execution_count": 18,
   "id": "d539b69a",
   "metadata": {},
   "outputs": [],
   "source": [
    "# Splitting the dataframe for training, testing and checking\n",
    "dfTrain = diabetesDF[:342]\n",
    "dfTest = diabetesDF[342:380]\n",
    "dfCheck = diabetesDF[380:]"
   ]
  },
  {
   "cell_type": "code",
   "execution_count": 19,
   "id": "d3243e02",
   "metadata": {},
   "outputs": [],
   "source": [
    "# Separating the Outcome varible from training and testing data and storing them as arrays\n",
    "trainActual = np.asarray(dfTrain['Outcome'])\n",
    "trainData = np.asarray(dfTrain.drop('Outcome',1))\n",
    "testActual = np.asarray(dfTest['Outcome'])\n",
    "testData = np.asarray(dfTest.drop('Outcome',1))"
   ]
  },
  {
   "cell_type": "code",
   "execution_count": 20,
   "id": "7cfa59eb",
   "metadata": {},
   "outputs": [],
   "source": [
    "#Calculating means, standard deviations\n",
    "means = np.mean(trainData, axis=0)\n",
    "stds = np.std(trainData, axis=0)\n",
    "trainData = (trainData - means)/stds\n",
    "testData = (testData - means)/stds"
   ]
  },
  {
   "cell_type": "code",
   "execution_count": 22,
   "id": "6595b82e",
   "metadata": {},
   "outputs": [
    {
     "data": {
      "text/plain": [
       "LogisticRegression()"
      ]
     },
     "execution_count": 22,
     "metadata": {},
     "output_type": "execute_result"
    }
   ],
   "source": [
    "# Applying Logistic Regression for creating the model\n",
    "diabetesCheck = LogisticRegression()\n",
    "diabetesCheck.fit(trainData, trainActual)"
   ]
  },
  {
   "cell_type": "code",
   "execution_count": 23,
   "id": "6867a3dc",
   "metadata": {},
   "outputs": [
    {
     "name": "stdout",
     "output_type": "stream",
     "text": [
      "accuracy =  81.57894736842105 %\n"
     ]
    }
   ],
   "source": [
    "# Checking accuracy for the model using test data\n",
    "accuracy = diabetesCheck.score(testData, testActual)\n",
    "print(\"accuracy = \", accuracy * 100, \"%\")"
   ]
  },
  {
   "cell_type": "code",
   "execution_count": 35,
   "id": "b02411cb",
   "metadata": {},
   "outputs": [
    {
     "data": {
      "text/plain": [
       "Text(0.5, 0, 'Importance')"
      ]
     },
     "execution_count": 35,
     "metadata": {},
     "output_type": "execute_result"
    },
    {
     "data": {
      "image/png": "[encoded data removed]",
      "text/plain": [
       "<Figure size 792x432 with 1 Axes>"
      ]
     },
     "metadata": {
      "needs_background": "light"
     },
     "output_type": "display_data"
    }
   ],
   "source": [
    "# Creating a horizontal bar plot for importance of variables\n",
    "coeff = list(diabetesCheck.coef_[0]) # coeff stores the values of coefficienct for all the variables\n",
    "labels = list(dfTrain.drop('Outcome',1).columns)\n",
    "features = pd.DataFrame()\n",
    "features['Features'] = labels\n",
    "features['importance'] = coeff\n",
    "features.sort_values(by=['importance'], ascending=True, inplace=True)\n",
    "features['positive'] = features['importance'] > 0\n",
    "features.set_index('Features', inplace=True)\n",
    "features.importance.plot(kind='barh', figsize=(11, 6),color = features.positive.map({True: 'blue', False: 'red'}))\n",
    "plt.xlabel('Importance')"
   ]
  },
  {
   "cell_type": "markdown",
   "id": "d03dd578",
   "metadata": {},
   "source": [
    "## Observations from the plot\n",
    "\n",
    "##### Glucose level, BMI, Age and Diabetes Pedigree Function have significant influence on the model, since their coefficient value is high.\n",
    "\n",
    "##### Skin Thickness, Blood Pressure and Insulin have relatively low influence on the model, since their coefficient value is low.\n",
    "\n",
    "##### The blue bars indicate positive value of coefficient whereas the red bars indicate negative value of coefficient, where positive indicates that the variable is directly proportional to the outcome and negative indicates that the variable is indirectly proportional to the outcome.\n",
    "\n",
    "##### Insulin is more important of a feature than Skin Thickness, because the magnitude of coefficient is higher(the negative only indicates proportionality not impact).\n",
    "\n",
    "##### So, as a conclusion we can say that features that directly infect diabetes are Glucose, BMI, Age and Diabetes Pedigree Function.\n",
    "\n",
    "\n",
    "## -\n",
    "\n",
    "## -\n",
    "\n",
    "\n",
    "##### Saving the trained model and checking it with our check data"
   ]
  },
  {
   "cell_type": "code",
   "execution_count": 36,
   "id": "c1eed0b6",
   "metadata": {},
   "outputs": [
    {
     "data": {
      "text/plain": [
       "['diabeteseModel.pkl']"
      ]
     },
     "execution_count": 36,
     "metadata": {},
     "output_type": "execute_result"
    }
   ],
   "source": [
    "joblib.dump([diabetesCheck, means, stds], 'diabeteseModel.pkl')"
   ]
  },
  {
   "cell_type": "code",
   "execution_count": 30,
   "id": "73279966",
   "metadata": {},
   "outputs": [
    {
     "name": "stdout",
     "output_type": "stream",
     "text": [
      "accuracy =  81.57894736842105 %\n"
     ]
    }
   ],
   "source": [
    "#Loading the saved model checking accuracy of the model\n",
    "diabetesLoadedModel, means, stds = joblib.load('diabeteseModel.pkl')\n",
    "accuracyModel = diabetesLoadedModel.score(testData, testActual)\n",
    "print(\"accuracy = \",accuracyModel * 100,\"%\")"
   ]
  },
  {
   "cell_type": "code",
   "execution_count": 31,
   "id": "1fbebc33",
   "metadata": {},
   "outputs": [
    {
     "data": {
      "text/html": [
       "<div>\n",
       "<style scoped>\n",
       "    .dataframe tbody tr th:only-of-type {\n",
       "        vertical-align: middle;\n",
       "    }\n",
       "\n",
       "    .dataframe tbody tr th {\n",
       "        vertical-align: top;\n",
       "    }\n",
       "\n",
       "    .dataframe thead th {\n",
       "        text-align: right;\n",
       "    }\n",
       "</style>\n",
       "<table border=\"1\" class=\"dataframe\">\n",
       "  <thead>\n",
       "    <tr style=\"text-align: right;\">\n",
       "      <th></th>\n",
       "      <th>Glucose</th>\n",
       "      <th>BloodPressure</th>\n",
       "      <th>SkinThickness</th>\n",
       "      <th>Insulin</th>\n",
       "      <th>BMI</th>\n",
       "      <th>DiabetesPedigreeFunction</th>\n",
       "      <th>Age</th>\n",
       "      <th>Outcome</th>\n",
       "    </tr>\n",
       "  </thead>\n",
       "  <tbody>\n",
       "    <tr>\n",
       "      <th>658</th>\n",
       "      <td>99.0</td>\n",
       "      <td>60.0</td>\n",
       "      <td>17.0</td>\n",
       "      <td>160.0</td>\n",
       "      <td>36.6</td>\n",
       "      <td>0.453</td>\n",
       "      <td>21.0</td>\n",
       "      <td>0.0</td>\n",
       "    </tr>\n",
       "    <tr>\n",
       "      <th>660</th>\n",
       "      <td>120.0</td>\n",
       "      <td>80.0</td>\n",
       "      <td>37.0</td>\n",
       "      <td>150.0</td>\n",
       "      <td>42.3</td>\n",
       "      <td>0.785</td>\n",
       "      <td>48.0</td>\n",
       "      <td>1.0</td>\n",
       "    </tr>\n",
       "    <tr>\n",
       "      <th>661</th>\n",
       "      <td>102.0</td>\n",
       "      <td>44.0</td>\n",
       "      <td>20.0</td>\n",
       "      <td>94.0</td>\n",
       "      <td>30.8</td>\n",
       "      <td>0.400</td>\n",
       "      <td>26.0</td>\n",
       "      <td>0.0</td>\n",
       "    </tr>\n",
       "    <tr>\n",
       "      <th>662</th>\n",
       "      <td>109.0</td>\n",
       "      <td>58.0</td>\n",
       "      <td>18.0</td>\n",
       "      <td>116.0</td>\n",
       "      <td>28.5</td>\n",
       "      <td>0.219</td>\n",
       "      <td>22.0</td>\n",
       "      <td>0.0</td>\n",
       "    </tr>\n",
       "    <tr>\n",
       "      <th>664</th>\n",
       "      <td>153.0</td>\n",
       "      <td>88.0</td>\n",
       "      <td>37.0</td>\n",
       "      <td>140.0</td>\n",
       "      <td>40.6</td>\n",
       "      <td>1.174</td>\n",
       "      <td>39.0</td>\n",
       "      <td>0.0</td>\n",
       "    </tr>\n",
       "    <tr>\n",
       "      <th>665</th>\n",
       "      <td>100.0</td>\n",
       "      <td>84.0</td>\n",
       "      <td>33.0</td>\n",
       "      <td>105.0</td>\n",
       "      <td>30.0</td>\n",
       "      <td>0.488</td>\n",
       "      <td>46.0</td>\n",
       "      <td>0.0</td>\n",
       "    </tr>\n",
       "    <tr>\n",
       "      <th>667</th>\n",
       "      <td>81.0</td>\n",
       "      <td>74.0</td>\n",
       "      <td>41.0</td>\n",
       "      <td>57.0</td>\n",
       "      <td>46.3</td>\n",
       "      <td>1.096</td>\n",
       "      <td>32.0</td>\n",
       "      <td>0.0</td>\n",
       "    </tr>\n",
       "    <tr>\n",
       "      <th>668</th>\n",
       "      <td>187.0</td>\n",
       "      <td>70.0</td>\n",
       "      <td>22.0</td>\n",
       "      <td>200.0</td>\n",
       "      <td>36.4</td>\n",
       "      <td>0.408</td>\n",
       "      <td>36.0</td>\n",
       "      <td>1.0</td>\n",
       "    </tr>\n",
       "    <tr>\n",
       "      <th>671</th>\n",
       "      <td>121.0</td>\n",
       "      <td>78.0</td>\n",
       "      <td>39.0</td>\n",
       "      <td>74.0</td>\n",
       "      <td>39.0</td>\n",
       "      <td>0.261</td>\n",
       "      <td>28.0</td>\n",
       "      <td>0.0</td>\n",
       "    </tr>\n",
       "    <tr>\n",
       "      <th>673</th>\n",
       "      <td>181.0</td>\n",
       "      <td>88.0</td>\n",
       "      <td>44.0</td>\n",
       "      <td>510.0</td>\n",
       "      <td>43.3</td>\n",
       "      <td>0.222</td>\n",
       "      <td>26.0</td>\n",
       "      <td>1.0</td>\n",
       "    </tr>\n",
       "    <tr>\n",
       "      <th>675</th>\n",
       "      <td>128.0</td>\n",
       "      <td>88.0</td>\n",
       "      <td>39.0</td>\n",
       "      <td>110.0</td>\n",
       "      <td>36.5</td>\n",
       "      <td>1.057</td>\n",
       "      <td>37.0</td>\n",
       "      <td>1.0</td>\n",
       "    </tr>\n",
       "    <tr>\n",
       "      <th>680</th>\n",
       "      <td>88.0</td>\n",
       "      <td>58.0</td>\n",
       "      <td>26.0</td>\n",
       "      <td>16.0</td>\n",
       "      <td>28.4</td>\n",
       "      <td>0.766</td>\n",
       "      <td>22.0</td>\n",
       "      <td>0.0</td>\n",
       "    </tr>\n",
       "    <tr>\n",
       "      <th>683</th>\n",
       "      <td>101.0</td>\n",
       "      <td>76.0</td>\n",
       "      <td>48.0</td>\n",
       "      <td>180.0</td>\n",
       "      <td>32.9</td>\n",
       "      <td>0.171</td>\n",
       "      <td>63.0</td>\n",
       "      <td>0.0</td>\n",
       "    </tr>\n",
       "    <tr>\n",
       "      <th>685</th>\n",
       "      <td>121.0</td>\n",
       "      <td>72.0</td>\n",
       "      <td>23.0</td>\n",
       "      <td>112.0</td>\n",
       "      <td>26.2</td>\n",
       "      <td>0.245</td>\n",
       "      <td>30.0</td>\n",
       "      <td>0.0</td>\n",
       "    </tr>\n",
       "  </tbody>\n",
       "</table>\n",
       "</div>"
      ],
      "text/plain": [
       "     Glucose  BloodPressure  SkinThickness  Insulin   BMI  \\\n",
       "658     99.0           60.0           17.0    160.0  36.6   \n",
       "660    120.0           80.0           37.0    150.0  42.3   \n",
       "661    102.0           44.0           20.0     94.0  30.8   \n",
       "662    109.0           58.0           18.0    116.0  28.5   \n",
       "664    153.0           88.0           37.0    140.0  40.6   \n",
       "665    100.0           84.0           33.0    105.0  30.0   \n",
       "667     81.0           74.0           41.0     57.0  46.3   \n",
       "668    187.0           70.0           22.0    200.0  36.4   \n",
       "671    121.0           78.0           39.0     74.0  39.0   \n",
       "673    181.0           88.0           44.0    510.0  43.3   \n",
       "675    128.0           88.0           39.0    110.0  36.5   \n",
       "680     88.0           58.0           26.0     16.0  28.4   \n",
       "683    101.0           76.0           48.0    180.0  32.9   \n",
       "685    121.0           72.0           23.0    112.0  26.2   \n",
       "\n",
       "     DiabetesPedigreeFunction   Age  Outcome  \n",
       "658                     0.453  21.0      0.0  \n",
       "660                     0.785  48.0      1.0  \n",
       "661                     0.400  26.0      0.0  \n",
       "662                     0.219  22.0      0.0  \n",
       "664                     1.174  39.0      0.0  \n",
       "665                     0.488  46.0      0.0  \n",
       "667                     1.096  32.0      0.0  \n",
       "668                     0.408  36.0      1.0  \n",
       "671                     0.261  28.0      0.0  \n",
       "673                     0.222  26.0      1.0  \n",
       "675                     1.057  37.0      1.0  \n",
       "680                     0.766  22.0      0.0  \n",
       "683                     0.171  63.0      0.0  \n",
       "685                     0.245  30.0      0.0  "
      ]
     },
     "execution_count": 31,
     "metadata": {},
     "output_type": "execute_result"
    }
   ],
   "source": [
    "dfCheck"
   ]
  },
  {
   "cell_type": "code",
   "execution_count": 33,
   "id": "da6a13c4",
   "metadata": {},
   "outputs": [
    {
     "name": "stdout",
     "output_type": "stream",
     "text": [
      "Probability: [[0.89638234 0.10361766]\n",
      " [0.28743314 0.71256686]\n",
      " [0.89941946 0.10058054]\n",
      " [0.92871977 0.07128023]\n",
      " [0.13017233 0.86982767]\n",
      " [0.76548454 0.23451546]\n",
      " [0.64853325 0.35146675]\n",
      " [0.14644338 0.85355662]\n",
      " [0.69690273 0.30309727]\n",
      " [0.25132841 0.74867159]\n",
      " [0.38387721 0.61612279]\n",
      " [0.93348373 0.06651627]\n",
      " [0.58575211 0.41424789]\n",
      " [0.86428967 0.13571033]]\n",
      "\n",
      "Prediction: [0. 1. 0. 0. 1. 0. 0. 1. 0. 1. 1. 0. 0. 0.]\n"
     ]
    }
   ],
   "source": [
    "sampleData = dfCheck\n",
    "# Prepare sample\n",
    "sampleDataFeatures = np.asarray(sampleData.drop('Outcome',1))\n",
    "sampleDataFeatures = (sampleDataFeatures - means)/stds\n",
    "# Predict\n",
    "predictionProbability = diabetesLoadedModel.predict_proba(sampleDataFeatures)\n",
    "prediction = diabetesLoadedModel.predict(sampleDataFeatures)\n",
    "print('Probability:', predictionProbability)\n",
    "print('\\nPrediction:', prediction)"
   ]
  },
  {
   "cell_type": "code",
   "execution_count": 37,
   "id": "932762e5",
   "metadata": {},
   "outputs": [
    {
     "name": "stdout",
     "output_type": "stream",
     "text": [
      "0.2672612419124244\n"
     ]
    }
   ],
   "source": [
    "from sklearn.metrics import mean_squared_error\n",
    "from math import sqrt\n",
    "mse = mean_squared_error(dfCheck['Outcome'], prediction)\n",
    "rmse = sqrt(mse)\n",
    "print(rmse)"
   ]
  },
  {
   "cell_type": "markdown",
   "id": "460cab2c",
   "metadata": {},
   "source": [
    "##### It can be easily observed that our model is working good and predicting whether a person is diabetic or not with a good accuracy (81.57894736842105 %) and low error (rmse = 0.2672612419124244).\n",
    "\n",
    "##### A low RMSE value indicates that the model is a good fit.\n"
   ]
  },
  {
   "cell_type": "code",
   "execution_count": null,
   "id": "547b0d10",
   "metadata": {},
   "outputs": [],
   "source": []
  }
 ],
 "metadata": {
  "kernelspec": {
   "display_name": "Python 3",
   "language": "python",
   "name": "python3"
  },
  "language_info": {
   "codemirror_mode": {
    "name": "ipython",
    "version": 3
   },
   "file_extension": ".py",
   "mimetype": "text/x-python",
   "name": "python",
   "nbconvert_exporter": "python",
   "pygments_lexer": "ipython3",
   "version": "3.8.8"
  }
 },
 "nbformat": 4,
 "nbformat_minor": 5
}
